%matplotlib inline

import os
import glob
import pandas as pd
import json
import logging
import missingno as msno
import pingouin as pg
import seaborn as sns
from statsmodels.tsa.seasonal import seasonal_decompose
from statsmodels.tsa.stattools import adfuller
from scipy import stats
import numpy as np
import matplotlib.pyplot as plt
import matplotlib.dates as mdates
from sklearn.linear_model import LinearRegression
from sklearn.model_selection import train_test_split
from sklearn.metrics import mean_squared_error, r2_score
import gradio as gr

# Configure logging
logging.basicConfig(
    level=logging.INFO,
    format='%(asctime)s - %(levelname)s - %(message)s',
    filename='data_processing.log',
    filemode='w'
)

# Existing functions remain unchanged...

def create_placeholder_plot(title="Placeholder Plot"):
    """Creates a placeholder plot with a title."""
    fig, ax = plt.subplots(figsize=(10, 6))
    ax.text(0.5, 0.5, title, fontsize=14, ha='center', va='center')
    ax.axis('off')  # Turn off axes
    return fig

def generate_statistical_summary(data):
    """Generates a statistical summary table."""
    numeric_cols = data.select_dtypes(include=np.number).columns
    stats_df = data[numeric_cols].describe(percentiles=[.25, .5, .75]).T
    stats_df['skewness'] = data[numeric_cols].skew()
    stats_df['kurtosis'] = data[numeric_cols].kurtosis()
    stats_df = stats_df[['mean', 'std', 'min', '25%', '50%', '75%', 'max', 'skewness', 'kurtosis']]
    return stats_df.reset_index().rename(columns={"index": "Feature"})

def build_regression_model(data):
    """Builds and evaluates a regression model to predict electricity demand."""
    if data is None or data.empty:
        return None, None, None

    try:
        features = ['hour', 'month', 'temperature', 'day_of_week']
        X = data[features]
        y = data['electricity_usage']
        X = pd.get_dummies(X, columns=['day_of_week'], drop_first=True)
        X_train, X_test, y_train, y_test = train_test_split(X, y, test_size=0.2, random_state=42, shuffle=False)

        model = LinearRegression()
        model.fit(X_train, y_train)
        y_pred = model.predict(X_test)

        mse = mean_squared_error(y_test, y_pred)
        rmse = np.sqrt(mse)
        r2 = r2_score(y_test, y_pred)
        mae = np.mean(np.abs(y_test - y_pred))

        regression_metrics = {
            "Metric": ["Mean Absolute Error (MAE)", "Mean Squared Error (MSE)", "Root Mean Squared Error (RMSE)", "R² Score"],
            "Value": [f"{mae:.2f}", f"{mse:.2f}", f"{rmse:.2f}", f"{r2:.4f}"]
        }

        coefficients = pd.DataFrame({
            'Feature': X.columns,
            'Coefficient': model.coef_
        }).sort_values('Coefficient', ascending=False)

        return regression_metrics, coefficients, y_test - y_pred

    except Exception as e:
        logging.error(f"Regression modeling error: {e}")
        return None, None, None

def process_and_display(electricity_folder, weather_folder):
    """Processes folder paths and generates plots, statistical summaries, and regression results."""
    try:
        # Load and preprocess data
        electricity_data = load_and_integrate_json_data(electricity_folder)
        weather_data = load_and_integrate_csv_data(weather_folder)

        if electricity_data is None or weather_data is None:
            raise ValueError("Failed to load input data. Check logs for details.")

        merged_data = pd.merge(electricity_data, weather_data, on='timestamp', how='inner')
        cleaned_data = preprocess_data(merged_data)

        if cleaned_data is None:
            raise ValueError("Data cleaning failed. Check logs for details.")

        # Generate plots
        time_series_fig = plot_time_series(cleaned_data.set_index('timestamp'))
        univariate_fig = plot_univariate_analysis(cleaned_data)
        correlation_fig = plot_correlation_matrix(cleaned_data)

        # Build regression model
        regression_metrics, coefficients, residuals = build_regression_model(cleaned_data)

        if residuals is not None:
            residuals_fig = plot_residuals(cleaned_data['electricity_usage'].iloc[-len(residuals):], residuals)
        else:
            residuals_fig = create_placeholder_plot("Error: Residual Analysis")

        # Generate statistical summary
        stats_summary = generate_statistical_summary(cleaned_data)

        # Return outputs for Gradio
        return (
            time_series_fig,
            univariate_fig,
            correlation_fig,
            residuals_fig,
            stats_summary,
            pd.DataFrame(regression_metrics) if regression_metrics else "Regression failed",
            coefficients if coefficients is not None else "No coefficients available"
        )

    except Exception as e:
        logging.error(f"Error during processing: {e}")
        # Return placeholders in case of errors
        return (
            create_placeholder_plot("Error: Time Series Plot"),
            create_placeholder_plot("Error: Univariate Analysis"),
            create_placeholder_plot("Error: Correlation Matrix"),
            create_placeholder_plot("Error: Residual Analysis"),
            pd.DataFrame({"Error": ["Failed to generate statistical summary"]}),
            "Regression failed",
            "No coefficients available"
        )

# Gradio Interface
with gr.Blocks() as demo:
    gr.Markdown("# Electricity Demand Analysis Dashboard")
    
    with gr.Row():
        electricity_input = gr.Textbox(label="Path to Electricity JSON Folder", placeholder="e.g., C:/path/to/electricity_data")
        weather_input = gr.Textbox(label="Path to Weather CSV Folder", placeholder="e.g., C:/path/to/weather_data")

    with gr.Row():
        time_series_plot = gr.Plot(label="Time Series Analysis")
        univariate_plot = gr.Plot(label="Univariate Analysis")

    with gr.Row():
        correlation_plot = gr.Plot(label="Correlation Matrix")
        residuals_plot = gr.Plot(label="Residual Analysis")

    with gr.Row():
        stats_summary = gr.DataFrame(label="Statistical Summary")
        regression_metrics = gr.DataFrame(label="Regression Metrics")
        coefficients_table = gr.DataFrame(label="Model Coefficients")

    submit_button = gr.Button("Generate Plots and Results")

    submit_button.click(
        process_and_display,
        inputs=[electricity_input, weather_input],
        outputs=[time_series_plot, univariate_plot, correlation_plot, residuals_plot, stats_summary, regression_metrics, coefficients_table]
    )

demo.launch()
